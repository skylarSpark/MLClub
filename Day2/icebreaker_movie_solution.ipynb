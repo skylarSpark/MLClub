{
  "cells": [
    {
      "cell_type": "code",
      "execution_count": 1,
      "metadata": {
        "id": "zXL3u543mvYN"
      },
      "outputs": [],
      "source": [
        "import pandas as pd\n",
        "import numpy as np\n",
        "import matplotlib\n",
        "import matplotlib.pyplot as plt"
      ]
    },
    {
      "cell_type": "code",
      "execution_count": 2,
      "metadata": {
        "id": "W-Tj_d6nnWqw"
      },
      "outputs": [],
      "source": [
        "# dataframe - df\n",
        "df = pd.read_csv('/content/NYU22Summer_Movie.csv')\n",
        "df = df.dropna()"
      ]
    },
    {
      "cell_type": "code",
      "execution_count": 3,
      "metadata": {
        "id": "meCMHRWTnfZW",
        "outputId": "4574dd29-86a3-47ef-c237-59958f6c60ac",
        "colab": {
          "base_uri": "https://localhost:8080/",
          "height": 821
        }
      },
      "outputs": [
        {
          "output_type": "execute_result",
          "data": {
            "text/plain": [
              "                           Name  Grade                  City  \\\n",
              "0                     Kyle Zhao   11.0         Princeton, NJ   \n",
              "1                     Noah Tonn   11.0      Clinton Township   \n",
              "2                     Andrew Xu   12.0            Pittsburgh   \n",
              "3                Nathan Gendler   11.0           Los Angeles   \n",
              "4              Jasmine Hazelrig   11.0          New York, NY   \n",
              "5                   Yi-Fei Zhao   12.0            Pittsburgh   \n",
              "6           Aadithya Srinivasan   11.0            Edison, NJ   \n",
              "7                      Ryan Kim   11.0    Seoul, South Korea   \n",
              "8                     Arya Shah   12.0        Mumbai, India    \n",
              "9                  Aditya Rawat   12.0            Irvine, CA   \n",
              "10                Hengrui Liang   11.0          San Jose, CA   \n",
              "11                Raymond Zhong   12.0          Cheshire, CT   \n",
              "12                    Kevin Dai   11.0          Millburn, NJ   \n",
              "13  Vu Tuong Huan (Jayden) Tran   12.0  Ho Chi Minh, Vietnam   \n",
              "14                     Tom Wang   11.0        Shreveport, LA   \n",
              "15                      Jin Ryu   12.0           Paramus, NJ   \n",
              "16                    Jolie Han   11.0         Cupertino, CA   \n",
              "17             Abhiram Batchali   11.0            Edison, NJ   \n",
              "18                  David Huang   11.0         Knoxville, TN   \n",
              "19                  Cole Spence   11.0     Oklahoma City, OK   \n",
              "20               Carson Granese   10.0    St. Petersburg, FL   \n",
              "\n",
              "                                Movie  IMDB Score  \\\n",
              "0                           Your Name         8.4   \n",
              "1                                Hush         2.2   \n",
              "2                        Interstellar         8.6   \n",
              "3   Everything Everywhere All At Once         8.3   \n",
              "4               The Lord of the Rings         8.8   \n",
              "5                   Blade Runner 2049         8.0   \n",
              "6                           Inception         8.8   \n",
              "7   Everything Everywhere All at Once         8.3   \n",
              "8                   Avengers: Endgame         8.4   \n",
              "9                              Wall-E         8.4   \n",
              "10                       Infinity War         8.4   \n",
              "11                       Interstellar         8.6   \n",
              "12        Mission Impossible: Fallout         7.7   \n",
              "13                           Kingsman         7.7   \n",
              "14                              Tenet         7.3   \n",
              "15                        Guns Akimbo         6.3   \n",
              "16                        Bee Movie 🐝         6.1   \n",
              "17                             Batman         7.9   \n",
              "18            Pirate of the caribbean         8.1   \n",
              "19                          John Wick         7.4   \n",
              "20                       Infinity War         8.4   \n",
              "\n",
              "                          Genre  Coding experience  \n",
              "0             Animation / Drama                3.0  \n",
              "1                        Horror                3.0  \n",
              "2                 Sci-Fi/Action                3.0  \n",
              "3                        Action                2.0  \n",
              "4        Action/Adventure/Drama                2.0  \n",
              "5        Action/Science Fiction                4.0  \n",
              "6                 Action/Sci-Fi                4.0  \n",
              "7   Action / Adventure / Comedy                3.0  \n",
              "8                        Action                2.0  \n",
              "9              Adventure/Sci-Fi                4.0  \n",
              "10      Action/Sci-fi/Adventure                3.0  \n",
              "11       Adventure/Drama/Sci-Fi                3.0  \n",
              "12                       Action                2.0  \n",
              "13                       Action                2.0  \n",
              "14                Action/Sci-Fi                3.0  \n",
              "15                Action/Comedy                2.0  \n",
              "16                       Comedy                3.0  \n",
              "17             Action/Adventure                3.0  \n",
              "18   Action, Fantasy, Adventure                3.0  \n",
              "19                       Action                3.0  \n",
              "20                       Sci-Fi                3.0  "
            ],
            "text/html": [
              "\n",
              "  <div id=\"df-f2a94328-9838-45d6-aeef-31b3e4ff0587\">\n",
              "    <div class=\"colab-df-container\">\n",
              "      <div>\n",
              "<style scoped>\n",
              "    .dataframe tbody tr th:only-of-type {\n",
              "        vertical-align: middle;\n",
              "    }\n",
              "\n",
              "    .dataframe tbody tr th {\n",
              "        vertical-align: top;\n",
              "    }\n",
              "\n",
              "    .dataframe thead th {\n",
              "        text-align: right;\n",
              "    }\n",
              "</style>\n",
              "<table border=\"1\" class=\"dataframe\">\n",
              "  <thead>\n",
              "    <tr style=\"text-align: right;\">\n",
              "      <th></th>\n",
              "      <th>Name</th>\n",
              "      <th>Grade</th>\n",
              "      <th>City</th>\n",
              "      <th>Movie</th>\n",
              "      <th>IMDB Score</th>\n",
              "      <th>Genre</th>\n",
              "      <th>Coding experience</th>\n",
              "    </tr>\n",
              "  </thead>\n",
              "  <tbody>\n",
              "    <tr>\n",
              "      <th>0</th>\n",
              "      <td>Kyle Zhao</td>\n",
              "      <td>11.0</td>\n",
              "      <td>Princeton, NJ</td>\n",
              "      <td>Your Name</td>\n",
              "      <td>8.4</td>\n",
              "      <td>Animation / Drama</td>\n",
              "      <td>3.0</td>\n",
              "    </tr>\n",
              "    <tr>\n",
              "      <th>1</th>\n",
              "      <td>Noah Tonn</td>\n",
              "      <td>11.0</td>\n",
              "      <td>Clinton Township</td>\n",
              "      <td>Hush</td>\n",
              "      <td>2.2</td>\n",
              "      <td>Horror</td>\n",
              "      <td>3.0</td>\n",
              "    </tr>\n",
              "    <tr>\n",
              "      <th>2</th>\n",
              "      <td>Andrew Xu</td>\n",
              "      <td>12.0</td>\n",
              "      <td>Pittsburgh</td>\n",
              "      <td>Interstellar</td>\n",
              "      <td>8.6</td>\n",
              "      <td>Sci-Fi/Action</td>\n",
              "      <td>3.0</td>\n",
              "    </tr>\n",
              "    <tr>\n",
              "      <th>3</th>\n",
              "      <td>Nathan Gendler</td>\n",
              "      <td>11.0</td>\n",
              "      <td>Los Angeles</td>\n",
              "      <td>Everything Everywhere All At Once</td>\n",
              "      <td>8.3</td>\n",
              "      <td>Action</td>\n",
              "      <td>2.0</td>\n",
              "    </tr>\n",
              "    <tr>\n",
              "      <th>4</th>\n",
              "      <td>Jasmine Hazelrig</td>\n",
              "      <td>11.0</td>\n",
              "      <td>New York, NY</td>\n",
              "      <td>The Lord of the Rings</td>\n",
              "      <td>8.8</td>\n",
              "      <td>Action/Adventure/Drama</td>\n",
              "      <td>2.0</td>\n",
              "    </tr>\n",
              "    <tr>\n",
              "      <th>5</th>\n",
              "      <td>Yi-Fei Zhao</td>\n",
              "      <td>12.0</td>\n",
              "      <td>Pittsburgh</td>\n",
              "      <td>Blade Runner 2049</td>\n",
              "      <td>8.0</td>\n",
              "      <td>Action/Science Fiction</td>\n",
              "      <td>4.0</td>\n",
              "    </tr>\n",
              "    <tr>\n",
              "      <th>6</th>\n",
              "      <td>Aadithya Srinivasan</td>\n",
              "      <td>11.0</td>\n",
              "      <td>Edison, NJ</td>\n",
              "      <td>Inception</td>\n",
              "      <td>8.8</td>\n",
              "      <td>Action/Sci-Fi</td>\n",
              "      <td>4.0</td>\n",
              "    </tr>\n",
              "    <tr>\n",
              "      <th>7</th>\n",
              "      <td>Ryan Kim</td>\n",
              "      <td>11.0</td>\n",
              "      <td>Seoul, South Korea</td>\n",
              "      <td>Everything Everywhere All at Once</td>\n",
              "      <td>8.3</td>\n",
              "      <td>Action / Adventure / Comedy</td>\n",
              "      <td>3.0</td>\n",
              "    </tr>\n",
              "    <tr>\n",
              "      <th>8</th>\n",
              "      <td>Arya Shah</td>\n",
              "      <td>12.0</td>\n",
              "      <td>Mumbai, India</td>\n",
              "      <td>Avengers: Endgame</td>\n",
              "      <td>8.4</td>\n",
              "      <td>Action</td>\n",
              "      <td>2.0</td>\n",
              "    </tr>\n",
              "    <tr>\n",
              "      <th>9</th>\n",
              "      <td>Aditya Rawat</td>\n",
              "      <td>12.0</td>\n",
              "      <td>Irvine, CA</td>\n",
              "      <td>Wall-E</td>\n",
              "      <td>8.4</td>\n",
              "      <td>Adventure/Sci-Fi</td>\n",
              "      <td>4.0</td>\n",
              "    </tr>\n",
              "    <tr>\n",
              "      <th>10</th>\n",
              "      <td>Hengrui Liang</td>\n",
              "      <td>11.0</td>\n",
              "      <td>San Jose, CA</td>\n",
              "      <td>Infinity War</td>\n",
              "      <td>8.4</td>\n",
              "      <td>Action/Sci-fi/Adventure</td>\n",
              "      <td>3.0</td>\n",
              "    </tr>\n",
              "    <tr>\n",
              "      <th>11</th>\n",
              "      <td>Raymond Zhong</td>\n",
              "      <td>12.0</td>\n",
              "      <td>Cheshire, CT</td>\n",
              "      <td>Interstellar</td>\n",
              "      <td>8.6</td>\n",
              "      <td>Adventure/Drama/Sci-Fi</td>\n",
              "      <td>3.0</td>\n",
              "    </tr>\n",
              "    <tr>\n",
              "      <th>12</th>\n",
              "      <td>Kevin Dai</td>\n",
              "      <td>11.0</td>\n",
              "      <td>Millburn, NJ</td>\n",
              "      <td>Mission Impossible: Fallout</td>\n",
              "      <td>7.7</td>\n",
              "      <td>Action</td>\n",
              "      <td>2.0</td>\n",
              "    </tr>\n",
              "    <tr>\n",
              "      <th>13</th>\n",
              "      <td>Vu Tuong Huan (Jayden) Tran</td>\n",
              "      <td>12.0</td>\n",
              "      <td>Ho Chi Minh, Vietnam</td>\n",
              "      <td>Kingsman</td>\n",
              "      <td>7.7</td>\n",
              "      <td>Action</td>\n",
              "      <td>2.0</td>\n",
              "    </tr>\n",
              "    <tr>\n",
              "      <th>14</th>\n",
              "      <td>Tom Wang</td>\n",
              "      <td>11.0</td>\n",
              "      <td>Shreveport, LA</td>\n",
              "      <td>Tenet</td>\n",
              "      <td>7.3</td>\n",
              "      <td>Action/Sci-Fi</td>\n",
              "      <td>3.0</td>\n",
              "    </tr>\n",
              "    <tr>\n",
              "      <th>15</th>\n",
              "      <td>Jin Ryu</td>\n",
              "      <td>12.0</td>\n",
              "      <td>Paramus, NJ</td>\n",
              "      <td>Guns Akimbo</td>\n",
              "      <td>6.3</td>\n",
              "      <td>Action/Comedy</td>\n",
              "      <td>2.0</td>\n",
              "    </tr>\n",
              "    <tr>\n",
              "      <th>16</th>\n",
              "      <td>Jolie Han</td>\n",
              "      <td>11.0</td>\n",
              "      <td>Cupertino, CA</td>\n",
              "      <td>Bee Movie 🐝</td>\n",
              "      <td>6.1</td>\n",
              "      <td>Comedy</td>\n",
              "      <td>3.0</td>\n",
              "    </tr>\n",
              "    <tr>\n",
              "      <th>17</th>\n",
              "      <td>Abhiram Batchali</td>\n",
              "      <td>11.0</td>\n",
              "      <td>Edison, NJ</td>\n",
              "      <td>Batman</td>\n",
              "      <td>7.9</td>\n",
              "      <td>Action/Adventure</td>\n",
              "      <td>3.0</td>\n",
              "    </tr>\n",
              "    <tr>\n",
              "      <th>18</th>\n",
              "      <td>David Huang</td>\n",
              "      <td>11.0</td>\n",
              "      <td>Knoxville, TN</td>\n",
              "      <td>Pirate of the caribbean</td>\n",
              "      <td>8.1</td>\n",
              "      <td>Action, Fantasy, Adventure</td>\n",
              "      <td>3.0</td>\n",
              "    </tr>\n",
              "    <tr>\n",
              "      <th>19</th>\n",
              "      <td>Cole Spence</td>\n",
              "      <td>11.0</td>\n",
              "      <td>Oklahoma City, OK</td>\n",
              "      <td>John Wick</td>\n",
              "      <td>7.4</td>\n",
              "      <td>Action</td>\n",
              "      <td>3.0</td>\n",
              "    </tr>\n",
              "    <tr>\n",
              "      <th>20</th>\n",
              "      <td>Carson Granese</td>\n",
              "      <td>10.0</td>\n",
              "      <td>St. Petersburg, FL</td>\n",
              "      <td>Infinity War</td>\n",
              "      <td>8.4</td>\n",
              "      <td>Sci-Fi</td>\n",
              "      <td>3.0</td>\n",
              "    </tr>\n",
              "  </tbody>\n",
              "</table>\n",
              "</div>\n",
              "      <button class=\"colab-df-convert\" onclick=\"convertToInteractive('df-f2a94328-9838-45d6-aeef-31b3e4ff0587')\"\n",
              "              title=\"Convert this dataframe to an interactive table.\"\n",
              "              style=\"display:none;\">\n",
              "        \n",
              "  <svg xmlns=\"http://www.w3.org/2000/svg\" height=\"24px\"viewBox=\"0 0 24 24\"\n",
              "       width=\"24px\">\n",
              "    <path d=\"M0 0h24v24H0V0z\" fill=\"none\"/>\n",
              "    <path d=\"M18.56 5.44l.94 2.06.94-2.06 2.06-.94-2.06-.94-.94-2.06-.94 2.06-2.06.94zm-11 1L8.5 8.5l.94-2.06 2.06-.94-2.06-.94L8.5 2.5l-.94 2.06-2.06.94zm10 10l.94 2.06.94-2.06 2.06-.94-2.06-.94-.94-2.06-.94 2.06-2.06.94z\"/><path d=\"M17.41 7.96l-1.37-1.37c-.4-.4-.92-.59-1.43-.59-.52 0-1.04.2-1.43.59L10.3 9.45l-7.72 7.72c-.78.78-.78 2.05 0 2.83L4 21.41c.39.39.9.59 1.41.59.51 0 1.02-.2 1.41-.59l7.78-7.78 2.81-2.81c.8-.78.8-2.07 0-2.86zM5.41 20L4 18.59l7.72-7.72 1.47 1.35L5.41 20z\"/>\n",
              "  </svg>\n",
              "      </button>\n",
              "      \n",
              "  <style>\n",
              "    .colab-df-container {\n",
              "      display:flex;\n",
              "      flex-wrap:wrap;\n",
              "      gap: 12px;\n",
              "    }\n",
              "\n",
              "    .colab-df-convert {\n",
              "      background-color: #E8F0FE;\n",
              "      border: none;\n",
              "      border-radius: 50%;\n",
              "      cursor: pointer;\n",
              "      display: none;\n",
              "      fill: #1967D2;\n",
              "      height: 32px;\n",
              "      padding: 0 0 0 0;\n",
              "      width: 32px;\n",
              "    }\n",
              "\n",
              "    .colab-df-convert:hover {\n",
              "      background-color: #E2EBFA;\n",
              "      box-shadow: 0px 1px 2px rgba(60, 64, 67, 0.3), 0px 1px 3px 1px rgba(60, 64, 67, 0.15);\n",
              "      fill: #174EA6;\n",
              "    }\n",
              "\n",
              "    [theme=dark] .colab-df-convert {\n",
              "      background-color: #3B4455;\n",
              "      fill: #D2E3FC;\n",
              "    }\n",
              "\n",
              "    [theme=dark] .colab-df-convert:hover {\n",
              "      background-color: #434B5C;\n",
              "      box-shadow: 0px 1px 3px 1px rgba(0, 0, 0, 0.15);\n",
              "      filter: drop-shadow(0px 1px 2px rgba(0, 0, 0, 0.3));\n",
              "      fill: #FFFFFF;\n",
              "    }\n",
              "  </style>\n",
              "\n",
              "      <script>\n",
              "        const buttonEl =\n",
              "          document.querySelector('#df-f2a94328-9838-45d6-aeef-31b3e4ff0587 button.colab-df-convert');\n",
              "        buttonEl.style.display =\n",
              "          google.colab.kernel.accessAllowed ? 'block' : 'none';\n",
              "\n",
              "        async function convertToInteractive(key) {\n",
              "          const element = document.querySelector('#df-f2a94328-9838-45d6-aeef-31b3e4ff0587');\n",
              "          const dataTable =\n",
              "            await google.colab.kernel.invokeFunction('convertToInteractive',\n",
              "                                                     [key], {});\n",
              "          if (!dataTable) return;\n",
              "\n",
              "          const docLinkHtml = 'Like what you see? Visit the ' +\n",
              "            '<a target=\"_blank\" href=https://colab.research.google.com/notebooks/data_table.ipynb>data table notebook</a>'\n",
              "            + ' to learn more about interactive tables.';\n",
              "          element.innerHTML = '';\n",
              "          dataTable['output_type'] = 'display_data';\n",
              "          await google.colab.output.renderOutput(dataTable, element);\n",
              "          const docLink = document.createElement('div');\n",
              "          docLink.innerHTML = docLinkHtml;\n",
              "          element.appendChild(docLink);\n",
              "        }\n",
              "      </script>\n",
              "    </div>\n",
              "  </div>\n",
              "  "
            ]
          },
          "metadata": {},
          "execution_count": 3
        }
      ],
      "source": [
        "df.head(31)"
      ]
    },
    {
      "cell_type": "markdown",
      "metadata": {
        "id": "xkstl8sJK5jX"
      },
      "source": [
        "### Plot the IMDB scores for all the movies\n",
        "- Use the [plt.scatter() function](https://matplotlib.org/3.2.1/api/_as_gen/matplotlib.pyplot.scatter.html)\n",
        "- x-axis indicates the name of the movies, y-axis shows the score.\n",
        "- do not forget to put on the labels for the axes."
      ]
    },
    {
      "cell_type": "code",
      "execution_count": 4,
      "metadata": {
        "id": "X7b_tjEknqXy"
      },
      "outputs": [],
      "source": [
        "names = df['Movie'].values\n",
        "score = df['IMDB Score'].values"
      ]
    },
    {
      "cell_type": "code",
      "execution_count": 6,
      "metadata": {
        "id": "EebaW8RPK5jY",
        "outputId": "4c31e15f-b32e-4d98-8d81-837d7499523a",
        "colab": {
          "base_uri": "https://localhost:8080/",
          "height": 553
        }
      },
      "outputs": [
        {
          "output_type": "stream",
          "name": "stderr",
          "text": [
            "/usr/local/lib/python3.7/dist-packages/matplotlib/backends/backend_agg.py:214: RuntimeWarning: Glyph 128029 missing from current font.\n",
            "  font.set_text(s, 0.0, flags=flags)\n",
            "/usr/local/lib/python3.7/dist-packages/matplotlib/backends/backend_agg.py:183: RuntimeWarning: Glyph 128029 missing from current font.\n",
            "  font.set_text(s, 0, flags=flags)\n"
          ]
        },
        {
          "output_type": "display_data",
          "data": {
            "text/plain": [
              "<Figure size 1080x360 with 1 Axes>"
            ],
            "image/png": "[encoded data removed]"
          },
          "metadata": {
            "needs_background": "light"
          }
        }
      ],
      "source": [
        "## To-do\n",
        "plt.figure(figsize=(15, 5))\n",
        "plt.scatter(names, score)\n",
        "plt.xticks(rotation=90)\n",
        "plt.show()"
      ]
    },
    {
      "cell_type": "markdown",
      "metadata": {
        "id": "yIN8mDZ0K5jb"
      },
      "source": [
        "### Plot the number of movies for each genre\n",
        "- Use the [plt.bar() function](https://matplotlib.org/3.2.1/api/_as_gen/matplotlib.pyplot.bar.html)\n",
        "- x-axis indicates the genre, y-axis shows the count for each genre.\n",
        "- do not forget to put on the labels for the axes."
      ]
    },
    {
      "cell_type": "code",
      "execution_count": 7,
      "metadata": {
        "id": "WYpmipj4K5jb"
      },
      "outputs": [],
      "source": [
        "# To-do\n",
        "genre = df['Genre'].values\n",
        "\n",
        "modes, counts = np.unique(genre, return_counts=True)"
      ]
    },
    {
      "cell_type": "code",
      "source": [
        "plt.bar(modes, counts)\n",
        "plt.xticks(modes, rotation=90)\n",
        "plt.xlabel('Genre')\n",
        "plt.ylabel('Count')"
      ],
      "metadata": {
        "id": "yqDR5-ba1HIs",
        "outputId": "7ec21f95-950a-4f69-d4c1-51e080c3700c",
        "colab": {
          "base_uri": "https://localhost:8080/",
          "height": 430
        }
      },
      "execution_count": 8,
      "outputs": [
        {
          "output_type": "execute_result",
          "data": {
            "text/plain": [
              "Text(0, 0.5, 'Count')"
            ]
          },
          "metadata": {},
          "execution_count": 8
        },
        {
          "output_type": "display_data",
          "data": {
            "text/plain": [
              "<Figure size 432x288 with 1 Axes>"
            ],
            "image/png": "[encoded data removed]"
          },
          "metadata": {
            "needs_background": "light"
          }
        }
      ]
    },
    {
      "cell_type": "markdown",
      "metadata": {
        "id": "VIanecbER2ra"
      },
      "source": [
        "### Plot the histogram for the IMDB score\n",
        "- Use [plt.hist() function](https://matplotlib.org/api/_as_gen/matplotlib.pyplot.hist.html)\n",
        "- x-axis indicates the score interval, y-axis shows the number of movies within each score interval\n",
        "- make the interval length 0.5\n",
        "- do not forget to put on the labels for the axes."
      ]
    },
    {
      "cell_type": "markdown",
      "metadata": {
        "id": "JK4VaynLlRug"
      },
      "source": [
        "- numpy arange() might come in handy!"
      ]
    },
    {
      "cell_type": "code",
      "execution_count": 11,
      "metadata": {
        "id": "J0WLGlpQS6vg",
        "outputId": "fc614a30-2697-45e7-d4e2-acb55968cf47",
        "colab": {
          "base_uri": "https://localhost:8080/",
          "height": 279
        }
      },
      "outputs": [
        {
          "output_type": "display_data",
          "data": {
            "text/plain": [
              "<Figure size 432x288 with 1 Axes>"
            ],
            "image/png": "[encoded data removed]"
          },
          "metadata": {
            "needs_background": "light"
          }
        }
      ],
      "source": [
        "# To-do\n",
        "min_score = np.min(score)\n",
        "max_score = np.max(score)\n",
        "\n",
        "bin_range = np.arange(min_score, max_score, 0.5)\n",
        "plt.hist(score, bin_range, ec='red')\n",
        "\n",
        "plt.xlabel('Score')\n",
        "plt.ylabel('Number')\n",
        "plt.show()"
      ]
    },
    {
      "cell_type": "markdown",
      "source": [
        "### Calculate the mean and variance of the IMDB score of the movies\n"
      ],
      "metadata": {
        "id": "7WZVNg1cq-sU"
      }
    },
    {
      "cell_type": "code",
      "execution_count": 12,
      "metadata": {
        "id": "CY-EKqoUOfP6",
        "outputId": "3ffd0ae5-6082-4f48-cf6a-520debf7a128",
        "colab": {
          "base_uri": "https://localhost:8080/"
        }
      },
      "outputs": [
        {
          "output_type": "stream",
          "name": "stdout",
          "text": [
            "Mean score:  7.71904761904762\n",
            "Var of score:  2.024399092970522\n"
          ]
        }
      ],
      "source": [
        "# To-do\n",
        "mean_score = np.mean(score)\n",
        "var_score = np.var(score)\n",
        "\n",
        "print(\"Mean score: \", mean_score)\n",
        "print(\"Var of score: \", var_score)"
      ]
    }
  ],
  "metadata": {
    "colab": {
      "name": "IceBreakerDemo.ipynb",
      "provenance": []
    },
    "kernelspec": {
      "display_name": "Python 3",
      "language": "python",
      "name": "python3"
    },
    "language_info": {
      "codemirror_mode": {
        "name": "ipython",
        "version": 3
      },
      "file_extension": ".py",
      "mimetype": "text/x-python",
      "name": "python",
      "nbconvert_exporter": "python",
      "pygments_lexer": "ipython3",
      "version": "3.7.0"
    },
    "latex_envs": {
      "LaTeX_envs_menu_present": true,
      "autoclose": true,
      "autocomplete": true,
      "bibliofile": "biblio.bib",
      "cite_by": "apalike",
      "current_citInitial": 1,
      "eqLabelWithNumbers": true,
      "eqNumInitial": 1,
      "hotkeys": {
        "equation": "Ctrl-E",
        "itemize": "Ctrl-I"
      },
      "labels_anchors": false,
      "latex_user_defs": false,
      "report_style_numbering": false,
      "user_envs_cfg": false
    }
  },
  "nbformat": 4,
  "nbformat_minor": 0
}