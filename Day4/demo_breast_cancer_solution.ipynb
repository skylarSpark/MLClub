{
<<<<<<< HEAD
 "cells": [
  {
   "cell_type": "markdown",
   "metadata": {
    "colab_type": "text",
    "id": "uFl5VYXPIY7D"
   },
   "source": [
    "## Breast Cancer Diagnosis via Linear Regression"
   ]
  },
  {
   "cell_type": "markdown",
   "metadata": {
    "colab_type": "text",
    "id": "MkFIjttvIhDs"
   },
   "source": [
    "We will use the widely-used breast cancer data set.  This data set is described [here](https://archive.ics.uci.edu/ml/machine-learning-databases/breast-cancer-wisconsin).\n",
    "\n",
    "\n",
    "\n",
    "Each sample is a collection of features that were manually recorded by a physician upon inspecting a sample of cells from fine needle aspiration. \n",
    "\n",
    "**The goal is to detect if the cells are benign or malignant.**"
   ]
  },
  {
   "cell_type": "markdown",
   "metadata": {
    "colab_type": "text",
    "id": "9TNtqa-3I1K7"
   },
   "source": [
    "#### Loading and Visualizing the Data\n",
    "\n",
    "We first load the packages as usual."
   ]
  },
  {
   "cell_type": "code",
   "execution_count": 1,
   "metadata": {
    "colab": {},
    "colab_type": "code",
    "id": "x2uPPzaUIP_b"
   },
   "outputs": [],
   "source": [
    "import numpy as np\n",
    "import matplotlib\n",
    "import matplotlib.pyplot as plt\n",
    "import pandas as pd\n",
    "from sklearn import datasets, linear_model, preprocessing\n",
    "%matplotlib inline"
   ]
  },
  {
   "cell_type": "markdown",
   "metadata": {
    "colab_type": "text",
    "id": "VWEojdFDI8AK"
   },
   "source": [
    "Next, we load the data.  It is important to remove the missing values."
   ]
  },
  {
   "cell_type": "code",
   "execution_count": 2,
   "metadata": {
    "colab": {
     "base_uri": "https://localhost:8080/",
     "height": 238
    },
    "colab_type": "code",
    "id": "YCBZS-xbI9gt",
    "outputId": "f215f6c3-0272-4ec1-9415-0e5c9702c23d"
   },
   "outputs": [
    {
     "data": {
      "text/html": [
       "<div>\n",
       "<style scoped>\n",
       "    .dataframe tbody tr th:only-of-type {\n",
       "        vertical-align: middle;\n",
       "    }\n",
       "\n",
       "    .dataframe tbody tr th {\n",
       "        vertical-align: top;\n",
       "    }\n",
       "\n",
       "    .dataframe thead th {\n",
       "        text-align: right;\n",
       "    }\n",
       "</style>\n",
       "<table border=\"1\" class=\"dataframe\">\n",
       "  <thead>\n",
       "    <tr style=\"text-align: right;\">\n",
       "      <th></th>\n",
       "      <th>id</th>\n",
       "      <th>thick</th>\n",
       "      <th>size</th>\n",
       "      <th>shape</th>\n",
       "      <th>marg</th>\n",
       "      <th>cell_size</th>\n",
       "      <th>bare</th>\n",
       "      <th>chrom</th>\n",
       "      <th>normal</th>\n",
       "      <th>mit</th>\n",
       "      <th>class</th>\n",
       "    </tr>\n",
       "  </thead>\n",
       "  <tbody>\n",
       "    <tr>\n",
       "      <th>0</th>\n",
       "      <td>1000025</td>\n",
       "      <td>5</td>\n",
       "      <td>1</td>\n",
       "      <td>1</td>\n",
       "      <td>1</td>\n",
       "      <td>2</td>\n",
       "      <td>1.0</td>\n",
       "      <td>3</td>\n",
       "      <td>1</td>\n",
       "      <td>1</td>\n",
       "      <td>2</td>\n",
       "    </tr>\n",
       "    <tr>\n",
       "      <th>1</th>\n",
       "      <td>1002945</td>\n",
       "      <td>5</td>\n",
       "      <td>4</td>\n",
       "      <td>4</td>\n",
       "      <td>5</td>\n",
       "      <td>7</td>\n",
       "      <td>10.0</td>\n",
       "      <td>3</td>\n",
       "      <td>2</td>\n",
       "      <td>1</td>\n",
       "      <td>2</td>\n",
       "    </tr>\n",
       "    <tr>\n",
       "      <th>2</th>\n",
       "      <td>1015425</td>\n",
       "      <td>3</td>\n",
       "      <td>1</td>\n",
       "      <td>1</td>\n",
       "      <td>1</td>\n",
       "      <td>2</td>\n",
       "      <td>2.0</td>\n",
       "      <td>3</td>\n",
       "      <td>1</td>\n",
       "      <td>1</td>\n",
       "      <td>2</td>\n",
       "    </tr>\n",
       "    <tr>\n",
       "      <th>3</th>\n",
       "      <td>1016277</td>\n",
       "      <td>6</td>\n",
       "      <td>8</td>\n",
       "      <td>8</td>\n",
       "      <td>1</td>\n",
       "      <td>3</td>\n",
       "      <td>4.0</td>\n",
       "      <td>3</td>\n",
       "      <td>7</td>\n",
       "      <td>1</td>\n",
       "      <td>2</td>\n",
       "    </tr>\n",
       "    <tr>\n",
       "      <th>4</th>\n",
       "      <td>1017023</td>\n",
       "      <td>4</td>\n",
       "      <td>1</td>\n",
       "      <td>1</td>\n",
       "      <td>3</td>\n",
       "      <td>2</td>\n",
       "      <td>1.0</td>\n",
       "      <td>3</td>\n",
       "      <td>1</td>\n",
       "      <td>1</td>\n",
       "      <td>2</td>\n",
       "    </tr>\n",
       "  </tbody>\n",
       "</table>\n",
       "</div>"
      ],
      "text/plain": [
       "        id  thick  size  shape  marg  cell_size  bare  chrom  normal  mit  \\\n",
       "0  1000025      5     1      1     1          2   1.0      3       1    1   \n",
       "1  1002945      5     4      4     5          7  10.0      3       2    1   \n",
       "2  1015425      3     1      1     1          2   2.0      3       1    1   \n",
       "3  1016277      6     8      8     1          3   4.0      3       7    1   \n",
       "4  1017023      4     1      1     3          2   1.0      3       1    1   \n",
       "\n",
       "   class  \n",
       "0      2  \n",
       "1      2  \n",
       "2      2  \n",
       "3      2  \n",
       "4      2  "
      ]
     },
     "execution_count": 2,
     "metadata": {},
     "output_type": "execute_result"
    }
   ],
   "source": [
    "names = ['id','thick','size','shape','marg','cell_size','bare',\n",
    "         'chrom','normal','mit','class']\n",
    "df = pd.read_csv('https://archive.ics.uci.edu/ml/machine-learning-databases/' +\n",
    "                 'breast-cancer-wisconsin/breast-cancer-wisconsin.data',\n",
    "                names=names,na_values='?',header=None)\n",
    "df = df.dropna()\n",
    "df.head(5)"
   ]
  },
  {
   "cell_type": "markdown",
   "metadata": {
    "colab_type": "text",
    "id": "OYHiBO1UJEag"
   },
   "source": [
    "After loading the data, we can create a scatter plot of the data labeling the class values with different colors.  We will pick two of the features (\"size\" and \"marg\").  "
   ]
  },
  {
   "cell_type": "code",
   "execution_count": 3,
   "metadata": {
    "colab": {
     "base_uri": "https://localhost:8080/",
     "height": 305
    },
    "colab_type": "code",
    "id": "DnS-dnPIJGkc",
    "outputId": "14d1d1a5-d29b-4a21-e300-7cb710bdef8e"
   },
   "outputs": [
    {
     "data": {
      "text/plain": [
       "<matplotlib.legend.Legend at 0x2172d151da0>"
      ]
     },
     "execution_count": 3,
     "metadata": {},
     "output_type": "execute_result"
    },
    {
     "data": {
      "image/png": "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\n",
      "text/plain": [
       "<Figure size 576x432 with 1 Axes>"
      ]
     },
     "metadata": {
      "needs_background": "light"
     },
     "output_type": "display_data"
    }
   ],
   "source": [
    "# Converting to a zero-one indicator.\n",
    "yraw = np.array(df['class'])\n",
    "BEN_VAL = 2   # value in the 'class' label for benign samples\n",
    "MAL_VAL = 4   # value in the 'class' label for malignant samples\n",
    "y = (yraw == MAL_VAL).astype(int)\n",
    "Iben = (y==0)\n",
    "Imal = (y==1)\n",
    "\n",
    "# Get two predictors\n",
    "xnames =['size','marg'] \n",
    "X = np.array(df[xnames])\n",
    "\n",
    "# Create the scatter plot\n",
    "plt.figure(figsize=(8,6))\n",
    "plt.plot(X[Imal,0],X[Imal,1],'r.')\n",
    "plt.plot(X[Iben,0],X[Iben,1],'g.')\n",
    "plt.xlabel(xnames[0], fontsize=16)\n",
    "plt.ylabel(xnames[1], fontsize=16)\n",
    "plt.ylim(0,14)\n",
    "plt.legend(['malign','benign'],loc='upper right')\n"
   ]
  },
  {
   "cell_type": "markdown",
   "metadata": {
    "colab_type": "text",
    "id": "89PPJ0mNJIdg"
   },
   "source": [
    "The above plot is not informative, since many of the points are on top of one another.  Thus, we cannot see the relative frequency of points.  \n",
    "\n",
    "One way to improve the plot is to draw circles on each point whose size is proportional to the count of samples at that point.  We will re-use this code, so we define a function. "
   ]
  },
  {
   "cell_type": "code",
   "execution_count": 4,
   "metadata": {
    "colab": {
     "base_uri": "https://localhost:8080/",
     "height": 305
    },
    "colab_type": "code",
    "id": "2D1BF4bRJKro",
    "outputId": "10d68b61-cb61-4cfa-e2a9-9752b71148dd"
   },
   "outputs": [
    {
     "data": {
      "text/plain": [
       "<module 'matplotlib.pyplot' from 'c:\\\\users\\\\tommy\\\\.conda\\\\envs\\\\mlenv\\\\lib\\\\site-packages\\\\matplotlib\\\\pyplot.py'>"
      ]
     },
     "execution_count": 4,
     "metadata": {},
     "output_type": "execute_result"
    },
    {
     "data": {
      "image/png": "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\n",
      "text/plain": [
       "<Figure size 576x432 with 1 Axes>"
      ]
     },
     "metadata": {
      "needs_background": "light"
     },
     "output_type": "display_data"
    }
   ],
   "source": [
    "def plot_count(X,y):\n",
    "    \n",
    "    # Compute the bin edges for the 2d histogram\n",
    "    x0val = np.array(list(set(X[:,0]))).astype(float)\n",
    "    x1val = np.array(list(set(X[:,1]))).astype(float)\n",
    "    x0, x1 = np.meshgrid(x0val,x1val)\n",
    "    x0e= np.hstack((x0val,np.max(x0val)+1))\n",
    "    x1e= np.hstack((x1val,np.max(x1val)+1))\n",
    "\n",
    "    # Make a plot for each class\n",
    "    yval = list(set(y))\n",
    "    color = ['g','r']\n",
    "    plt.figure(figsize=(8,6))\n",
    "    for i in range(len(yval)):\n",
    "        I = np.where(y==yval[i])[0]\n",
    "        count, x0e, x1e = np.histogram2d(X[I,0],X[I,1],[x0e,x1e])\n",
    "        x0, x1 = np.meshgrid(x0val,x1val)\n",
    "        plt.scatter(x0.ravel(), x1.ravel(), s=2*count.ravel(),alpha=0.5,\n",
    "                    c=color[i],edgecolors='none')\n",
    "    plt.ylim([0,14])\n",
    "    plt.legend(['benign','malign'], loc='upper right')\n",
    "    plt.xlabel(xnames[0], fontsize=16)\n",
    "    plt.ylabel(xnames[1], fontsize=16)\n",
    "    return plt\n",
    "\n",
    "plot_count(X,y)"
   ]
  },
  {
   "cell_type": "markdown",
   "metadata": {
    "colab_type": "text",
    "id": "aROvueqkJLdM"
   },
   "source": [
    "#  Exercise\n",
    "\n",
    "1) Based on the above plot, what would you think a good \"classifer\" using the two features could be? That is, write a rule that can classify the benign region from the malignant region.\n",
    "\n",
    "2) Define a metric function that computes TP, FP, TN, FN, the accuracy, the sensitivity and the precision.\n",
    "\n",
    "3) Try to improve your classifier given those metrics\n",
    "\n",
    "4) Use sklearn logistic regression and check each metric."
   ]
  },
  {
   "cell_type": "code",
   "execution_count": 17,
   "metadata": {
    "colab": {},
    "colab_type": "code",
    "id": "OhtSZi3LJNPk"
   },
   "outputs": [
    {
     "name": "stdout",
     "output_type": "stream",
     "text": [
      "(683,)\n"
     ]
    }
   ],
   "source": [
    "# TODO: Implement the classifier of 1) (Note that there can be multiple classifiers)\n",
    "# HINT: find the equation of the line that almost completely separates the two classes (green points from the red points in the picture above)\n",
    "#       assign values greater than this line to the \"malign\" class otherwise to the \"benign\" class.  \n",
    "def classifier(X, bound=4):\n",
    "    size = X[:, 0]\n",
    "    marg = X[:, 1]\n",
    "    # TODO\n",
    "    y_hat = (size + marg) >= bound\n",
    "    return y_hat.astype(int)\n",
    "\n",
    "y_pred = classifier(X)\n",
    "print(y_pred.shape)"
   ]
  },
  {
   "cell_type": "code",
   "execution_count": 18,
   "metadata": {},
   "outputs": [
    {
     "name": "stdout",
     "output_type": "stream",
     "text": [
      "TP: 231, TN: 365, FP: 79, FN: 8\n",
      "Accuracy is 0.8726207906295754, Sensitivity is 0.9665271966527197, Precision is 0.7451612903225806\n",
      "\n",
      "Improved Classifier: \n",
      "TP: 214, TN: 426, FP: 18, FN: 25\n",
      "Accuracy is 0.9370424597364568, Sensitivity is 0.895397489539749, Precision is 0.9224137931034483\n"
     ]
    }
   ],
   "source": [
    "def metrics(y, y_hat):\n",
    "    # TODO: 2)\n",
    "    # calculate TP, TN, FP and FN rates\n",
    "    \n",
    "    TP = np.sum((y + y_hat) == 2) # y = 1, yhat = 1\n",
    "    TN = np.sum((y + y_hat) == 0) # y = 0, yhat = 0\n",
    "    FP = np.sum((y - y_hat) == -1) # y = 0, yhat = 1\n",
    "    FN = np.sum((y - y_hat) == 1) # y = 1, yhat = 0\n",
    "    \n",
    "    return TP, TN, FP, FN\n",
    "\n",
    "TP, TN, FP, FN = metrics(y, y_pred)\n",
    "# calculate the following metrics using TP, TN, FP, and FN\n",
    "accuracy = (TP+TN)/(TP+TN+FP+FN)\n",
    "sensitivity = TP/(TP+FN)\n",
    "precision = TP/(TP+FP)\n",
    "print(\"TP: {}, TN: {}, FP: {}, FN: {}\".format(TP, TN, FP, FN))\n",
    "print(\"Accuracy is {}, Sensitivity is {}, Precision is {}\".format(accuracy, sensitivity, precision))\n",
    "\n",
    "# TODO: 3) try to improve your classifier and measure the performance using the metrics above\n",
    "\n",
    "y_pred_2 = classifier(X, bound=6)\n",
    "TP, TN, FP, FN = metrics(y, y_pred_2)\n",
    "accuracy = (TP+TN)/(TP+TN+FP+FN)\n",
    "sensitivity = TP/(TP+FN)\n",
    "precision = TP/(TP+FP)\n",
    "print()\n",
    "print(\"Improved Classifier: \")\n",
    "print(\"TP: {}, TN: {}, FP: {}, FN: {}\".format(TP, TN, FP, FN))\n",
    "print(\"Accuracy is {}, Sensitivity is {}, Precision is {}\".format(accuracy, sensitivity, precision))"
   ]
  },
  {
   "cell_type": "markdown",
   "metadata": {},
   "source": [
    "LogisticRegression: https://scikit-learn.org/stable/modules/generated/sklearn.linear_model.LogisticRegression.html"
   ]
  },
  {
   "cell_type": "code",
   "execution_count": 15,
   "metadata": {},
   "outputs": [],
   "source": [
    "from sklearn.linear_model import LogisticRegression\n",
    "# TODO: 4) use LogisticRegression of sklearn\n",
    "clf = LogisticRegression(random_state=0)\n",
    "\n",
    "# fit the logistic regression model\n",
    "clf.fit(X, y)\n",
    "\n",
    "# predict using the model\n",
    "y_pred_clf = clf.predict(X)"
   ]
  },
  {
   "cell_type": "code",
   "execution_count": 16,
   "metadata": {},
   "outputs": [
    {
     "name": "stdout",
     "output_type": "stream",
     "text": [
      "WITH SKLEARN: \n",
      "TP: 214, TN: 429, FP: 15, FN: 25\n",
      "Accuracy is 0.9414348462664714, Sensitivity is 0.895397489539749, Precision is 0.9344978165938864\n"
     ]
    }
   ],
   "source": [
    "# Evaluate sklearn's model according to the metrics above\n",
    "\n",
    "# TODO\n",
    "TP, TN, FP, FN = metrics(y, y_pred_clf)\n",
    "# calculate the following metrics using TP, TN, FP, and FN\n",
    "accuracy = (TP+TN)/(TP+TN+FP+FN)\n",
    "sensitivity = TP/(TP+FN)\n",
    "precision = TP/(TP+FP)\n",
    "\n",
    "print(\"WITH SKLEARN: \")\n",
    "print(\"TP: {}, TN: {}, FP: {}, FN: {}\".format(TP, TN, FP, FN))\n",
    "print(\"Accuracy is {}, Sensitivity is {}, Precision is {}\".format(accuracy, sensitivity, precision))"
   ]
  },
  {
   "cell_type": "code",
   "execution_count": null,
   "metadata": {},
   "outputs": [],
   "source": []
  }
 ],
 "metadata": {
  "colab": {
   "collapsed_sections": [
    "MfjrSYu-WKDo"
   ],
   "include_colab_link": true,
   "name": "Breast Cancer Demo.ipynb",
   "provenance": [],
   "version": "0.3.2"
  },
  "kernelspec": {
   "display_name": "Python 3",
   "language": "python",
   "name": "python3"
  },
  "language_info": {
   "codemirror_mode": {
    "name": "ipython",
    "version": 3
   },
   "file_extension": ".py",
   "mimetype": "text/x-python",
   "name": "python",
   "nbconvert_exporter": "python",
   "pygments_lexer": "ipython3",
   "version": "3.7.0"
  }
 },
 "nbformat": 4,
 "nbformat_minor": 1
}
=======
  "cells": [
    {
      "cell_type": "markdown",
      "metadata": {
        "id": "uFl5VYXPIY7D"
      },
      "source": [
        "## Breast Cancer Diagnosis via Linear Regression"
      ]
    },
    {
      "cell_type": "markdown",
      "metadata": {
        "id": "MkFIjttvIhDs"
      },
      "source": [
        "We will use the widely-used breast cancer data set.  This data set is described [here](https://archive.ics.uci.edu/ml/machine-learning-databases/breast-cancer-wisconsin).\n",
        "\n",
        "\n",
        "\n",
        "Each sample is a collection of features that were manually recorded by a physician upon inspecting a sample of cells from fine needle aspiration. \n",
        "\n",
        "**The goal is to detect if the cells are benign or malignant.**"
      ]
    },
    {
      "cell_type": "markdown",
      "metadata": {
        "id": "9TNtqa-3I1K7"
      },
      "source": [
        "#### Loading and Visualizing the Data\n",
        "\n",
        "We first load the packages as usual."
      ]
    },
    {
      "cell_type": "code",
      "execution_count": null,
      "metadata": {
        "id": "x2uPPzaUIP_b"
      },
      "outputs": [],
      "source": [
        "import numpy as np\n",
        "import matplotlib\n",
        "import matplotlib.pyplot as plt\n",
        "import pandas as pd\n",
        "from sklearn import datasets, linear_model, preprocessing\n",
        "%matplotlib inline"
      ]
    },
    {
      "cell_type": "markdown",
      "metadata": {
        "id": "VWEojdFDI8AK"
      },
      "source": [
        "Next, we load the data.  It is important to remove the missing values."
      ]
    },
    {
      "cell_type": "code",
      "execution_count": null,
      "metadata": {
        "colab": {
          "base_uri": "https://localhost:8080/",
          "height": 206
        },
        "id": "YCBZS-xbI9gt",
        "outputId": "8a71a8de-3e3c-4eb2-9fb2-c57d06e8f0ac"
      },
      "outputs": [
        {
          "output_type": "execute_result",
          "data": {
            "text/plain": [
              "        id  thick  size  shape  marg  cell_size  bare  chrom  normal  mit  \\\n",
              "0  1000025      5     1      1     1          2   1.0      3       1    1   \n",
              "1  1002945      5     4      4     5          7  10.0      3       2    1   \n",
              "2  1015425      3     1      1     1          2   2.0      3       1    1   \n",
              "3  1016277      6     8      8     1          3   4.0      3       7    1   \n",
              "4  1017023      4     1      1     3          2   1.0      3       1    1   \n",
              "\n",
              "   class  \n",
              "0      2  \n",
              "1      2  \n",
              "2      2  \n",
              "3      2  \n",
              "4      2  "
            ],
            "text/html": [
              "\n",
              "  <div id=\"df-0cbc5a8b-d54c-4ca5-88d8-bd67171bc879\">\n",
              "    <div class=\"colab-df-container\">\n",
              "      <div>\n",
              "<style scoped>\n",
              "    .dataframe tbody tr th:only-of-type {\n",
              "        vertical-align: middle;\n",
              "    }\n",
              "\n",
              "    .dataframe tbody tr th {\n",
              "        vertical-align: top;\n",
              "    }\n",
              "\n",
              "    .dataframe thead th {\n",
              "        text-align: right;\n",
              "    }\n",
              "</style>\n",
              "<table border=\"1\" class=\"dataframe\">\n",
              "  <thead>\n",
              "    <tr style=\"text-align: right;\">\n",
              "      <th></th>\n",
              "      <th>id</th>\n",
              "      <th>thick</th>\n",
              "      <th>size</th>\n",
              "      <th>shape</th>\n",
              "      <th>marg</th>\n",
              "      <th>cell_size</th>\n",
              "      <th>bare</th>\n",
              "      <th>chrom</th>\n",
              "      <th>normal</th>\n",
              "      <th>mit</th>\n",
              "      <th>class</th>\n",
              "    </tr>\n",
              "  </thead>\n",
              "  <tbody>\n",
              "    <tr>\n",
              "      <th>0</th>\n",
              "      <td>1000025</td>\n",
              "      <td>5</td>\n",
              "      <td>1</td>\n",
              "      <td>1</td>\n",
              "      <td>1</td>\n",
              "      <td>2</td>\n",
              "      <td>1.0</td>\n",
              "      <td>3</td>\n",
              "      <td>1</td>\n",
              "      <td>1</td>\n",
              "      <td>2</td>\n",
              "    </tr>\n",
              "    <tr>\n",
              "      <th>1</th>\n",
              "      <td>1002945</td>\n",
              "      <td>5</td>\n",
              "      <td>4</td>\n",
              "      <td>4</td>\n",
              "      <td>5</td>\n",
              "      <td>7</td>\n",
              "      <td>10.0</td>\n",
              "      <td>3</td>\n",
              "      <td>2</td>\n",
              "      <td>1</td>\n",
              "      <td>2</td>\n",
              "    </tr>\n",
              "    <tr>\n",
              "      <th>2</th>\n",
              "      <td>1015425</td>\n",
              "      <td>3</td>\n",
              "      <td>1</td>\n",
              "      <td>1</td>\n",
              "      <td>1</td>\n",
              "      <td>2</td>\n",
              "      <td>2.0</td>\n",
              "      <td>3</td>\n",
              "      <td>1</td>\n",
              "      <td>1</td>\n",
              "      <td>2</td>\n",
              "    </tr>\n",
              "    <tr>\n",
              "      <th>3</th>\n",
              "      <td>1016277</td>\n",
              "      <td>6</td>\n",
              "      <td>8</td>\n",
              "      <td>8</td>\n",
              "      <td>1</td>\n",
              "      <td>3</td>\n",
              "      <td>4.0</td>\n",
              "      <td>3</td>\n",
              "      <td>7</td>\n",
              "      <td>1</td>\n",
              "      <td>2</td>\n",
              "    </tr>\n",
              "    <tr>\n",
              "      <th>4</th>\n",
              "      <td>1017023</td>\n",
              "      <td>4</td>\n",
              "      <td>1</td>\n",
              "      <td>1</td>\n",
              "      <td>3</td>\n",
              "      <td>2</td>\n",
              "      <td>1.0</td>\n",
              "      <td>3</td>\n",
              "      <td>1</td>\n",
              "      <td>1</td>\n",
              "      <td>2</td>\n",
              "    </tr>\n",
              "  </tbody>\n",
              "</table>\n",
              "</div>\n",
              "      <button class=\"colab-df-convert\" onclick=\"convertToInteractive('df-0cbc5a8b-d54c-4ca5-88d8-bd67171bc879')\"\n",
              "              title=\"Convert this dataframe to an interactive table.\"\n",
              "              style=\"display:none;\">\n",
              "        \n",
              "  <svg xmlns=\"http://www.w3.org/2000/svg\" height=\"24px\"viewBox=\"0 0 24 24\"\n",
              "       width=\"24px\">\n",
              "    <path d=\"M0 0h24v24H0V0z\" fill=\"none\"/>\n",
              "    <path d=\"M18.56 5.44l.94 2.06.94-2.06 2.06-.94-2.06-.94-.94-2.06-.94 2.06-2.06.94zm-11 1L8.5 8.5l.94-2.06 2.06-.94-2.06-.94L8.5 2.5l-.94 2.06-2.06.94zm10 10l.94 2.06.94-2.06 2.06-.94-2.06-.94-.94-2.06-.94 2.06-2.06.94z\"/><path d=\"M17.41 7.96l-1.37-1.37c-.4-.4-.92-.59-1.43-.59-.52 0-1.04.2-1.43.59L10.3 9.45l-7.72 7.72c-.78.78-.78 2.05 0 2.83L4 21.41c.39.39.9.59 1.41.59.51 0 1.02-.2 1.41-.59l7.78-7.78 2.81-2.81c.8-.78.8-2.07 0-2.86zM5.41 20L4 18.59l7.72-7.72 1.47 1.35L5.41 20z\"/>\n",
              "  </svg>\n",
              "      </button>\n",
              "      \n",
              "  <style>\n",
              "    .colab-df-container {\n",
              "      display:flex;\n",
              "      flex-wrap:wrap;\n",
              "      gap: 12px;\n",
              "    }\n",
              "\n",
              "    .colab-df-convert {\n",
              "      background-color: #E8F0FE;\n",
              "      border: none;\n",
              "      border-radius: 50%;\n",
              "      cursor: pointer;\n",
              "      display: none;\n",
              "      fill: #1967D2;\n",
              "      height: 32px;\n",
              "      padding: 0 0 0 0;\n",
              "      width: 32px;\n",
              "    }\n",
              "\n",
              "    .colab-df-convert:hover {\n",
              "      background-color: #E2EBFA;\n",
              "      box-shadow: 0px 1px 2px rgba(60, 64, 67, 0.3), 0px 1px 3px 1px rgba(60, 64, 67, 0.15);\n",
              "      fill: #174EA6;\n",
              "    }\n",
              "\n",
              "    [theme=dark] .colab-df-convert {\n",
              "      background-color: #3B4455;\n",
              "      fill: #D2E3FC;\n",
              "    }\n",
              "\n",
              "    [theme=dark] .colab-df-convert:hover {\n",
              "      background-color: #434B5C;\n",
              "      box-shadow: 0px 1px 3px 1px rgba(0, 0, 0, 0.15);\n",
              "      filter: drop-shadow(0px 1px 2px rgba(0, 0, 0, 0.3));\n",
              "      fill: #FFFFFF;\n",
              "    }\n",
              "  </style>\n",
              "\n",
              "      <script>\n",
              "        const buttonEl =\n",
              "          document.querySelector('#df-0cbc5a8b-d54c-4ca5-88d8-bd67171bc879 button.colab-df-convert');\n",
              "        buttonEl.style.display =\n",
              "          google.colab.kernel.accessAllowed ? 'block' : 'none';\n",
              "\n",
              "        async function convertToInteractive(key) {\n",
              "          const element = document.querySelector('#df-0cbc5a8b-d54c-4ca5-88d8-bd67171bc879');\n",
              "          const dataTable =\n",
              "            await google.colab.kernel.invokeFunction('convertToInteractive',\n",
              "                                                     [key], {});\n",
              "          if (!dataTable) return;\n",
              "\n",
              "          const docLinkHtml = 'Like what you see? Visit the ' +\n",
              "            '<a target=\"_blank\" href=https://colab.research.google.com/notebooks/data_table.ipynb>data table notebook</a>'\n",
              "            + ' to learn more about interactive tables.';\n",
              "          element.innerHTML = '';\n",
              "          dataTable['output_type'] = 'display_data';\n",
              "          await google.colab.output.renderOutput(dataTable, element);\n",
              "          const docLink = document.createElement('div');\n",
              "          docLink.innerHTML = docLinkHtml;\n",
              "          element.appendChild(docLink);\n",
              "        }\n",
              "      </script>\n",
              "    </div>\n",
              "  </div>\n",
              "  "
            ]
          },
          "metadata": {},
          "execution_count": 12
        }
      ],
      "source": [
        "names = ['id','thick','size','shape','marg','cell_size','bare',\n",
        "         'chrom','normal','mit','class']  # marg = marginal adhesion\n",
        "df = pd.read_csv('https://archive.ics.uci.edu/ml/machine-learning-databases/' +\n",
        "                 'breast-cancer-wisconsin/breast-cancer-wisconsin.data',\n",
        "                names=names,na_values='?',header=None)\n",
        "df = df.dropna()\n",
        "df.head(5)"
      ]
    },
    {
      "cell_type": "markdown",
      "metadata": {
        "id": "OYHiBO1UJEag"
      },
      "source": [
        "After loading the data, we can create a scatter plot of the data labeling the class values with different colors.  We will pick two of the features (\"size\" and \"marg\").  "
      ]
    },
    {
      "cell_type": "code",
      "execution_count": null,
      "metadata": {
        "colab": {
          "base_uri": "https://localhost:8080/",
          "height": 414
        },
        "id": "DnS-dnPIJGkc",
        "outputId": "17b41474-b4b6-4617-f95e-2bbbc67c4a8c"
      },
      "outputs": [
        {
          "output_type": "execute_result",
          "data": {
            "text/plain": [
              "<matplotlib.legend.Legend at 0x7f61a02d5150>"
            ]
          },
          "metadata": {},
          "execution_count": 3
        },
        {
          "output_type": "display_data",
          "data": {
            "text/plain": [
              "<Figure size 576x432 with 1 Axes>"
            ],
            "image/png": "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\n"
          },
          "metadata": {
            "needs_background": "light"
          }
        }
      ],
      "source": [
        "# Converting to a zero-one indicator.\n",
        "yraw = np.array(df['class'])\n",
        "BEN_VAL = 2   # value in the 'class' label for benign samples\n",
        "MAL_VAL = 4   # value in the 'class' label for malignant samples\n",
        "y = (yraw == MAL_VAL).astype(int)  # y would be 1(malignant) or 0(benign)\n",
        "Iben = (y==0) # benign\n",
        "Imal = (y==1) # malignant\n",
        "\n",
        "# Get two predictors\n",
        "xnames =['size','marg'] \n",
        "X = np.array(df[xnames])\n",
        "# e.g X[?,0] is the size value, X[?,1] is the marg value\n",
        "\n",
        "# Create the scatter plot\n",
        "plt.figure(figsize=(8,6))\n",
        "plt.plot(X[Imal,0],X[Imal,1],'r.') # red stands for malignant\n",
        "plt.plot(X[Iben,0],X[Iben,1],'g.') # green stands for benign\n",
        "plt.xlabel(xnames[0], fontsize=16)\n",
        "plt.ylabel(xnames[1], fontsize=16)\n",
        "plt.ylim(0,14)\n",
        "plt.legend(['malign','benign'],loc='upper right')\n"
      ]
    },
    {
      "cell_type": "markdown",
      "metadata": {
        "id": "89PPJ0mNJIdg"
      },
      "source": [
        "The above plot is not informative, since many of the points are on top of one another.  Thus, we cannot see the relative frequency of points.  \n",
        "\n",
        "One way to improve the plot is to draw circles on each point whose size is proportional to the count of samples at that point.  We will re-use this code, so we define a function. "
      ]
    },
    {
      "cell_type": "code",
      "execution_count": null,
      "metadata": {
        "colab": {
          "base_uri": "https://localhost:8080/",
          "height": 414
        },
        "id": "2D1BF4bRJKro",
        "outputId": "67f8e37f-a81a-479c-e2b9-3f49ec0ec105"
      },
      "outputs": [
        {
          "output_type": "execute_result",
          "data": {
            "text/plain": [
              "<module 'matplotlib.pyplot' from '/usr/local/lib/python3.7/dist-packages/matplotlib/pyplot.py'>"
            ]
          },
          "metadata": {},
          "execution_count": 15
        },
        {
          "output_type": "display_data",
          "data": {
            "text/plain": [
              "<Figure size 576x432 with 1 Axes>"
            ],
            "image/png": "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\n"
          },
          "metadata": {
            "needs_background": "light"
          }
        }
      ],
      "source": [
        "def plot_count(X,y):\n",
        "    \n",
        "    # Compute the bin edges for the 2d histogram\n",
        "    x0val = np.array(list(set(X[:,0]))).astype(float)\n",
        "    x1val = np.array(list(set(X[:,1]))).astype(float)\n",
        "    x0, x1 = np.meshgrid(x0val,x1val) # Vectorized evaluations of N-D scalar/vector fields\n",
        "    x0e= np.hstack((x0val,np.max(x0val)+1)) # Stack arrays in sequence horizontally\n",
        "    x1e= np.hstack((x1val,np.max(x1val)+1))\n",
        "\n",
        "    # Make a plot for each class\n",
        "    yval = list(set(y))\n",
        "    color = ['g','r']\n",
        "    plt.figure(figsize=(8,6))\n",
        "    for i in range(len(yval)):\n",
        "        I = np.where(y==yval[i])[0] # condition\n",
        "        count, x0e, x1e = np.histogram2d(X[I,0],X[I,1],[x0e,x1e]) # bi-dimensional histogram, first dimension edge, second dimension edge\n",
        "        x0, x1 = np.meshgrid(x0val,x1val)\n",
        "        plt.scatter(x0.ravel(), x1.ravel(), s=2*count.ravel(),alpha=0.5,\n",
        "                    c=color[i],edgecolors='none') # level the array\n",
        "    plt.ylim([0,14])\n",
        "    plt.legend(['benign','malign'], loc='upper right')\n",
        "    plt.xlabel(xnames[0], fontsize=16)\n",
        "    plt.ylabel(xnames[1], fontsize=16)\n",
        "    return plt\n",
        "\n",
        "plot_count(X,y)"
      ]
    },
    {
      "cell_type": "markdown",
      "metadata": {
        "id": "aROvueqkJLdM"
      },
      "source": [
        "#  Exercise\n",
        "\n",
        "1) Based on the above plot, what would you think a good \"classifer\" using the two features could be? That is, write a rule that can classify the benign region from the malignant region.\n",
        "\n",
        "2) Define a metric function that computes TP, FP, TN, FN, the accuracy, the sensitivity and the precision.\n",
        "\n",
        "3) Try to improve your classifier given those metrics\n",
        "\n",
        "4) Use sklearn logistic regression and check each metric."
      ]
    },
    {
      "cell_type": "code",
      "execution_count": null,
      "metadata": {
        "colab": {
          "base_uri": "https://localhost:8080/"
        },
        "id": "OhtSZi3LJNPk",
        "outputId": "fb68e9b6-4765-40aa-a93e-83af9efb1908"
      },
      "outputs": [
        {
          "output_type": "stream",
          "name": "stdout",
          "text": [
            "(683,)\n"
          ]
        }
      ],
      "source": [
        "# TODO: Implement the classifier of 1) (Note that there can be multiple classifiers)\n",
        "# HINT: find the equation of the line that almost completely separates the two classes (green points from the red points in the picture above)\n",
        "#       assign values greater than this line to the \"malign\" class otherwise to the \"benign\" class.  \n",
        "def classifier(X, bound=4):\n",
        "    size = X[:, 0]\n",
        "    marg = X[:, 1]\n",
        "    # TODO\n",
        "    y_hat = (size + marg) >= bound\n",
        "    return y_hat.astype(int)\n",
        "\n",
        "y_pred = classifier(X)\n",
        "print(y_pred.shape)"
      ]
    },
    {
      "cell_type": "code",
      "execution_count": null,
      "metadata": {
        "colab": {
          "base_uri": "https://localhost:8080/"
        },
        "id": "qptZb6GaOBjZ",
        "outputId": "ea5968a3-2104-4740-bec0-abbd621a1da3"
      },
      "outputs": [
        {
          "output_type": "stream",
          "name": "stdout",
          "text": [
            "TP: 231, TN: 365, FP: 79, FN: 8\n",
            "Accuracy is 0.8726207906295754, Sensitivity is 0.9665271966527197, Precision is 0.7451612903225806\n",
            "\n",
            "Improved Classifier: \n",
            "TP: 214, TN: 426, FP: 18, FN: 25\n",
            "Accuracy is 0.9370424597364568, Sensitivity is 0.895397489539749, Precision is 0.9224137931034483\n"
          ]
        }
      ],
      "source": [
        "def metrics(y, y_hat):\n",
        "    # TODO: 2)\n",
        "    # calculate TP, TN, FP and FN rates\n",
        "    \n",
        "    TP = np.sum((y + y_hat) == 2) # y = 1, yhat = 1\n",
        "    TN = np.sum((y + y_hat) == 0) # y = 0, yhat = 0\n",
        "    FP = np.sum((y - y_hat) == -1) # y = 0, yhat = 1\n",
        "    FN = np.sum((y - y_hat) == 1) # y = 1, yhat = 0\n",
        "    \n",
        "    return TP, TN, FP, FN\n",
        "\n",
        "TP, TN, FP, FN = metrics(y, y_pred)\n",
        "# calculate the following metrics using TP, TN, FP, and FN\n",
        "accuracy = (TP+TN)/(TP+TN+FP+FN)\n",
        "sensitivity = TP/(TP+FN)\n",
        "precision = TP/(TP+FP)\n",
        "print(\"TP: {}, TN: {}, FP: {}, FN: {}\".format(TP, TN, FP, FN))\n",
        "print(\"Accuracy is {}, Sensitivity is {}, Precision is {}\".format(accuracy, sensitivity, precision))\n",
        "\n",
        "# TODO: 3) try to improve your classifier and measure the performance using the metrics above\n",
        "\n",
        "y_pred_2 = classifier(X, bound=6)\n",
        "TP, TN, FP, FN = metrics(y, y_pred_2)\n",
        "accuracy = (TP+TN)/(TP+TN+FP+FN)\n",
        "sensitivity = TP/(TP+FN)\n",
        "precision = TP/(TP+FP)\n",
        "print()\n",
        "print(\"Improved Classifier: \")\n",
        "print(\"TP: {}, TN: {}, FP: {}, FN: {}\".format(TP, TN, FP, FN))\n",
        "print(\"Accuracy is {}, Sensitivity is {}, Precision is {}\".format(accuracy, sensitivity, precision))"
      ]
    },
    {
      "cell_type": "markdown",
      "metadata": {
        "id": "J9ZlZz61OBjZ"
      },
      "source": [
        "LogisticRegression: https://scikit-learn.org/stable/modules/generated/sklearn.linear_model.LogisticRegression.html"
      ]
    },
    {
      "cell_type": "code",
      "execution_count": null,
      "metadata": {
        "id": "llwr9qc5OBja"
      },
      "outputs": [],
      "source": [
        "from sklearn.linear_model import LogisticRegression\n",
        "# TODO: 4) use LogisticRegression of sklearn\n",
        "clf = LogisticRegression(random_state=0)\n",
        "\n",
        "# fit the logistic regression model\n",
        "clf.fit(X, y)\n",
        "\n",
        "# predict using the model\n",
        "y_pred_clf = clf.predict(X)"
      ]
    },
    {
      "cell_type": "code",
      "execution_count": null,
      "metadata": {
        "colab": {
          "base_uri": "https://localhost:8080/"
        },
        "id": "ymApPWPlOBja",
        "outputId": "e681ca9f-66b0-4ffe-e10d-2e9de52aa7a2"
      },
      "outputs": [
        {
          "output_type": "stream",
          "name": "stdout",
          "text": [
            "WITH SKLEARN: \n",
            "TP: 214, TN: 429, FP: 15, FN: 25\n",
            "Accuracy is 0.9414348462664714, Sensitivity is 0.895397489539749, Precision is 0.9344978165938864\n"
          ]
        }
      ],
      "source": [
        "# Evaluate sklearn's model according to the metrics above\n",
        "\n",
        "# TODO\n",
        "TP, TN, FP, FN = metrics(y, y_pred_clf)\n",
        "# calculate the following metrics using TP, TN, FP, and FN\n",
        "accuracy = (TP+TN)/(TP+TN+FP+FN)\n",
        "sensitivity = TP/(TP+FN)\n",
        "precision = TP/(TP+FP)\n",
        "\n",
        "print(\"WITH SKLEARN: \")\n",
        "print(\"TP: {}, TN: {}, FP: {}, FN: {}\".format(TP, TN, FP, FN))\n",
        "print(\"Accuracy is {}, Sensitivity is {}, Precision is {}\".format(accuracy, sensitivity, precision))"
      ]
    },
    {
      "cell_type": "code",
      "execution_count": null,
      "metadata": {
        "id": "ItYwI_BDOBjb"
      },
      "outputs": [],
      "source": [
        ""
      ]
    }
  ],
  "metadata": {
    "colab": {
      "collapsed_sections": [
        "MfjrSYu-WKDo"
      ],
      "name": "“Breast Cancer Demo.ipynb”的副本",
      "provenance": []
    },
    "kernelspec": {
      "display_name": "Python 3",
      "language": "python",
      "name": "python3"
    },
    "language_info": {
      "codemirror_mode": {
        "name": "ipython",
        "version": 3
      },
      "file_extension": ".py",
      "mimetype": "text/x-python",
      "name": "python",
      "nbconvert_exporter": "python",
      "pygments_lexer": "ipython3",
      "version": "3.7.0"
    }
  },
  "nbformat": 4,
  "nbformat_minor": 0
}
>>>>>>> b7fae40df6a6451208648409c2ff8b50e174d412
