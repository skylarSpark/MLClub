{
  "cells": [
    {
      "cell_type": "markdown",
      "metadata": {
        "id": "uFl5VYXPIY7D"
      },
      "source": [
        "## Breast Cancer Diagnosis via Linear Regression"
      ]
    },
    {
      "cell_type": "markdown",
      "metadata": {
        "id": "MkFIjttvIhDs"
      },
      "source": [
        "We will use the widely-used breast cancer data set.  This data set is described [here](https://archive.ics.uci.edu/ml/machine-learning-databases/breast-cancer-wisconsin).\n",
        "\n",
        "\n",
        "\n",
        "Each sample is a collection of features that were manually recorded by a physician upon inspecting a sample of cells from fine needle aspiration. \n",
        "\n",
        "**The goal is to detect if the cells are benign or malignant.**"
      ]
    },
    {
      "cell_type": "markdown",
      "metadata": {
        "id": "9TNtqa-3I1K7"
      },
      "source": [
        "#### Loading and Visualizing the Data\n",
        "\n",
        "We first load the packages as usual."
      ]
    },
    {
      "cell_type": "code",
      "execution_count": null,
      "metadata": {
        "id": "x2uPPzaUIP_b"
      },
      "outputs": [],
      "source": [
        "import numpy as np\n",
        "import matplotlib\n",
        "import matplotlib.pyplot as plt\n",
        "import pandas as pd\n",
        "from sklearn import datasets, linear_model, preprocessing\n",
        "%matplotlib inline"
      ]
    },
    {
      "cell_type": "markdown",
      "metadata": {
        "id": "VWEojdFDI8AK"
      },
      "source": [
        "Next, we load the data.  It is important to remove the missing values."
      ]
    },
    {
      "cell_type": "code",
      "execution_count": null,
      "metadata": {
        "colab": {
          "base_uri": "https://localhost:8080/",
          "height": 206
        },
        "id": "YCBZS-xbI9gt",
        "outputId": "8a71a8de-3e3c-4eb2-9fb2-c57d06e8f0ac"
      },
      "outputs": [
        {
          "output_type": "execute_result",
          "data": {
            "text/plain": [
              "        id  thick  size  shape  marg  cell_size  bare  chrom  normal  mit  \\\n",
              "0  1000025      5     1      1     1          2   1.0      3       1    1   \n",
              "1  1002945      5     4      4     5          7  10.0      3       2    1   \n",
              "2  1015425      3     1      1     1          2   2.0      3       1    1   \n",
              "3  1016277      6     8      8     1          3   4.0      3       7    1   \n",
              "4  1017023      4     1      1     3          2   1.0      3       1    1   \n",
              "\n",
              "   class  \n",
              "0      2  \n",
              "1      2  \n",
              "2      2  \n",
              "3      2  \n",
              "4      2  "
            ],
            "text/html": [
              "\n",
              "  <div id=\"df-0cbc5a8b-d54c-4ca5-88d8-bd67171bc879\">\n",
              "    <div class=\"colab-df-container\">\n",
              "      <div>\n",
              "<style scoped>\n",
              "    .dataframe tbody tr th:only-of-type {\n",
              "        vertical-align: middle;\n",
              "    }\n",
              "\n",
              "    .dataframe tbody tr th {\n",
              "        vertical-align: top;\n",
              "    }\n",
              "\n",
              "    .dataframe thead th {\n",
              "        text-align: right;\n",
              "    }\n",
              "</style>\n",
              "<table border=\"1\" class=\"dataframe\">\n",
              "  <thead>\n",
              "    <tr style=\"text-align: right;\">\n",
              "      <th></th>\n",
              "      <th>id</th>\n",
              "      <th>thick</th>\n",
              "      <th>size</th>\n",
              "      <th>shape</th>\n",
              "      <th>marg</th>\n",
              "      <th>cell_size</th>\n",
              "      <th>bare</th>\n",
              "      <th>chrom</th>\n",
              "      <th>normal</th>\n",
              "      <th>mit</th>\n",
              "      <th>class</th>\n",
              "    </tr>\n",
              "  </thead>\n",
              "  <tbody>\n",
              "    <tr>\n",
              "      <th>0</th>\n",
              "      <td>1000025</td>\n",
              "      <td>5</td>\n",
              "      <td>1</td>\n",
              "      <td>1</td>\n",
              "      <td>1</td>\n",
              "      <td>2</td>\n",
              "      <td>1.0</td>\n",
              "      <td>3</td>\n",
              "      <td>1</td>\n",
              "      <td>1</td>\n",
              "      <td>2</td>\n",
              "    </tr>\n",
              "    <tr>\n",
              "      <th>1</th>\n",
              "      <td>1002945</td>\n",
              "      <td>5</td>\n",
              "      <td>4</td>\n",
              "      <td>4</td>\n",
              "      <td>5</td>\n",
              "      <td>7</td>\n",
              "      <td>10.0</td>\n",
              "      <td>3</td>\n",
              "      <td>2</td>\n",
              "      <td>1</td>\n",
              "      <td>2</td>\n",
              "    </tr>\n",
              "    <tr>\n",
              "      <th>2</th>\n",
              "      <td>1015425</td>\n",
              "      <td>3</td>\n",
              "      <td>1</td>\n",
              "      <td>1</td>\n",
              "      <td>1</td>\n",
              "      <td>2</td>\n",
              "      <td>2.0</td>\n",
              "      <td>3</td>\n",
              "      <td>1</td>\n",
              "      <td>1</td>\n",
              "      <td>2</td>\n",
              "    </tr>\n",
              "    <tr>\n",
              "      <th>3</th>\n",
              "      <td>1016277</td>\n",
              "      <td>6</td>\n",
              "      <td>8</td>\n",
              "      <td>8</td>\n",
              "      <td>1</td>\n",
              "      <td>3</td>\n",
              "      <td>4.0</td>\n",
              "      <td>3</td>\n",
              "      <td>7</td>\n",
              "      <td>1</td>\n",
              "      <td>2</td>\n",
              "    </tr>\n",
              "    <tr>\n",
              "      <th>4</th>\n",
              "      <td>1017023</td>\n",
              "      <td>4</td>\n",
              "      <td>1</td>\n",
              "      <td>1</td>\n",
              "      <td>3</td>\n",
              "      <td>2</td>\n",
              "      <td>1.0</td>\n",
              "      <td>3</td>\n",
              "      <td>1</td>\n",
              "      <td>1</td>\n",
              "      <td>2</td>\n",
              "    </tr>\n",
              "  </tbody>\n",
              "</table>\n",
              "</div>\n",
              "      <button class=\"colab-df-convert\" onclick=\"convertToInteractive('df-0cbc5a8b-d54c-4ca5-88d8-bd67171bc879')\"\n",
              "              title=\"Convert this dataframe to an interactive table.\"\n",
              "              style=\"display:none;\">\n",
              "        \n",
              "  <svg xmlns=\"http://www.w3.org/2000/svg\" height=\"24px\"viewBox=\"0 0 24 24\"\n",
              "       width=\"24px\">\n",
              "    <path d=\"M0 0h24v24H0V0z\" fill=\"none\"/>\n",
              "    <path d=\"M18.56 5.44l.94 2.06.94-2.06 2.06-.94-2.06-.94-.94-2.06-.94 2.06-2.06.94zm-11 1L8.5 8.5l.94-2.06 2.06-.94-2.06-.94L8.5 2.5l-.94 2.06-2.06.94zm10 10l.94 2.06.94-2.06 2.06-.94-2.06-.94-.94-2.06-.94 2.06-2.06.94z\"/><path d=\"M17.41 7.96l-1.37-1.37c-.4-.4-.92-.59-1.43-.59-.52 0-1.04.2-1.43.59L10.3 9.45l-7.72 7.72c-.78.78-.78 2.05 0 2.83L4 21.41c.39.39.9.59 1.41.59.51 0 1.02-.2 1.41-.59l7.78-7.78 2.81-2.81c.8-.78.8-2.07 0-2.86zM5.41 20L4 18.59l7.72-7.72 1.47 1.35L5.41 20z\"/>\n",
              "  </svg>\n",
              "      </button>\n",
              "      \n",
              "  <style>\n",
              "    .colab-df-container {\n",
              "      display:flex;\n",
              "      flex-wrap:wrap;\n",
              "      gap: 12px;\n",
              "    }\n",
              "\n",
              "    .colab-df-convert {\n",
              "      background-color: #E8F0FE;\n",
              "      border: none;\n",
              "      border-radius: 50%;\n",
              "      cursor: pointer;\n",
              "      display: none;\n",
              "      fill: #1967D2;\n",
              "      height: 32px;\n",
              "      padding: 0 0 0 0;\n",
              "      width: 32px;\n",
              "    }\n",
              "\n",
              "    .colab-df-convert:hover {\n",
              "      background-color: #E2EBFA;\n",
              "      box-shadow: 0px 1px 2px rgba(60, 64, 67, 0.3), 0px 1px 3px 1px rgba(60, 64, 67, 0.15);\n",
              "      fill: #174EA6;\n",
              "    }\n",
              "\n",
              "    [theme=dark] .colab-df-convert {\n",
              "      background-color: #3B4455;\n",
              "      fill: #D2E3FC;\n",
              "    }\n",
              "\n",
              "    [theme=dark] .colab-df-convert:hover {\n",
              "      background-color: #434B5C;\n",
              "      box-shadow: 0px 1px 3px 1px rgba(0, 0, 0, 0.15);\n",
              "      filter: drop-shadow(0px 1px 2px rgba(0, 0, 0, 0.3));\n",
              "      fill: #FFFFFF;\n",
              "    }\n",
              "  </style>\n",
              "\n",
              "      <script>\n",
              "        const buttonEl =\n",
              "          document.querySelector('#df-0cbc5a8b-d54c-4ca5-88d8-bd67171bc879 button.colab-df-convert');\n",
              "        buttonEl.style.display =\n",
              "          google.colab.kernel.accessAllowed ? 'block' : 'none';\n",
              "\n",
              "        async function convertToInteractive(key) {\n",
              "          const element = document.querySelector('#df-0cbc5a8b-d54c-4ca5-88d8-bd67171bc879');\n",
              "          const dataTable =\n",
              "            await google.colab.kernel.invokeFunction('convertToInteractive',\n",
              "                                                     [key], {});\n",
              "          if (!dataTable) return;\n",
              "\n",
              "          const docLinkHtml = 'Like what you see? Visit the ' +\n",
              "            '<a target=\"_blank\" href=https://colab.research.google.com/notebooks/data_table.ipynb>data table notebook</a>'\n",
              "            + ' to learn more about interactive tables.';\n",
              "          element.innerHTML = '';\n",
              "          dataTable['output_type'] = 'display_data';\n",
              "          await google.colab.output.renderOutput(dataTable, element);\n",
              "          const docLink = document.createElement('div');\n",
              "          docLink.innerHTML = docLinkHtml;\n",
              "          element.appendChild(docLink);\n",
              "        }\n",
              "      </script>\n",
              "    </div>\n",
              "  </div>\n",
              "  "
            ]
          },
          "metadata": {},
          "execution_count": 12
        }
      ],
      "source": [
        "names = ['id','thick','size','shape','marg','cell_size','bare',\n",
        "         'chrom','normal','mit','class']  # marg = marginal adhesion\n",
        "df = pd.read_csv('https://archive.ics.uci.edu/ml/machine-learning-databases/' +\n",
        "                 'breast-cancer-wisconsin/breast-cancer-wisconsin.data',\n",
        "                names=names,na_values='?',header=None)\n",
        "df = df.dropna()\n",
        "df.head(5)"
      ]
    },
    {
      "cell_type": "markdown",
      "metadata": {
        "id": "OYHiBO1UJEag"
      },
      "source": [
        "After loading the data, we can create a scatter plot of the data labeling the class values with different colors.  We will pick two of the features (\"size\" and \"marg\").  "
      ]
    },
    {
      "cell_type": "code",
      "execution_count": null,
      "metadata": {
        "colab": {
          "base_uri": "https://localhost:8080/",
          "height": 414
        },
        "id": "DnS-dnPIJGkc",
        "outputId": "17b41474-b4b6-4617-f95e-2bbbc67c4a8c"
      },
      "outputs": [
        {
          "output_type": "execute_result",
          "data": {
            "text/plain": [
              "<matplotlib.legend.Legend at 0x7f61a02d5150>"
            ]
          },
          "metadata": {},
          "execution_count": 3
        },
        {
          "output_type": "display_data",
          "data": {
            "text/plain": [
              "<Figure size 576x432 with 1 Axes>"
            ],
            "image/png": "[encoded data removed]"
          },
          "metadata": {
            "needs_background": "light"
          }
        }
      ],
      "source": [
        "# Converting to a zero-one indicator.\n",
        "yraw = np.array(df['class'])\n",
        "BEN_VAL = 2   # value in the 'class' label for benign samples\n",
        "MAL_VAL = 4   # value in the 'class' label for malignant samples\n",
        "y = (yraw == MAL_VAL).astype(int)  # y would be 1(malignant) or 0(benign)\n",
        "Iben = (y==0) # benign\n",
        "Imal = (y==1) # malignant\n",
        "\n",
        "# Get two predictors\n",
        "xnames =['size','marg'] \n",
        "X = np.array(df[xnames])\n",
        "# e.g X[?,0] is the size value, X[?,1] is the marg value\n",
        "\n",
        "# Create the scatter plot\n",
        "plt.figure(figsize=(8,6))\n",
        "plt.plot(X[Imal,0],X[Imal,1],'r.') # red stands for malignant\n",
        "plt.plot(X[Iben,0],X[Iben,1],'g.') # green stands for benign\n",
        "plt.xlabel(xnames[0], fontsize=16)\n",
        "plt.ylabel(xnames[1], fontsize=16)\n",
        "plt.ylim(0,14)\n",
        "plt.legend(['malign','benign'],loc='upper right')\n"
      ]
    },
    {
      "cell_type": "markdown",
      "metadata": {
        "id": "89PPJ0mNJIdg"
      },
      "source": [
        "The above plot is not informative, since many of the points are on top of one another.  Thus, we cannot see the relative frequency of points.  \n",
        "\n",
        "One way to improve the plot is to draw circles on each point whose size is proportional to the count of samples at that point.  We will re-use this code, so we define a function. "
      ]
    },
    {
      "cell_type": "code",
      "execution_count": null,
      "metadata": {
        "colab": {
          "base_uri": "https://localhost:8080/",
          "height": 414
        },
        "id": "2D1BF4bRJKro",
        "outputId": "67f8e37f-a81a-479c-e2b9-3f49ec0ec105"
      },
      "outputs": [
        {
          "output_type": "execute_result",
          "data": {
            "text/plain": [
              "<module 'matplotlib.pyplot' from '/usr/local/lib/python3.7/dist-packages/matplotlib/pyplot.py'>"
            ]
          },
          "metadata": {},
          "execution_count": 15
        },
        {
          "output_type": "display_data",
          "data": {
            "text/plain": [
              "<Figure size 576x432 with 1 Axes>"
            ],
            "image/png": "[encoded data removed]"
          },
          "metadata": {
            "needs_background": "light"
          }
        }
      ],
      "source": [
        "def plot_count(X,y):\n",
        "    \n",
        "    # Compute the bin edges for the 2d histogram\n",
        "    x0val = np.array(list(set(X[:,0]))).astype(float)\n",
        "    x1val = np.array(list(set(X[:,1]))).astype(float)\n",
        "    x0, x1 = np.meshgrid(x0val,x1val) # Vectorized evaluations of N-D scalar/vector fields\n",
        "    x0e= np.hstack((x0val,np.max(x0val)+1)) # Stack arrays in sequence horizontally\n",
        "    x1e= np.hstack((x1val,np.max(x1val)+1))\n",
        "\n",
        "    # Make a plot for each class\n",
        "    yval = list(set(y))\n",
        "    color = ['g','r']\n",
        "    plt.figure(figsize=(8,6))\n",
        "    for i in range(len(yval)):\n",
        "        I = np.where(y==yval[i])[0] # condition\n",
        "        count, x0e, x1e = np.histogram2d(X[I,0],X[I,1],[x0e,x1e]) # bi-dimensional histogram, first dimension edge, second dimension edge\n",
        "        x0, x1 = np.meshgrid(x0val,x1val)\n",
        "        plt.scatter(x0.ravel(), x1.ravel(), s=2*count.ravel(),alpha=0.5,\n",
        "                    c=color[i],edgecolors='none') # level the array\n",
        "    plt.ylim([0,14])\n",
        "    plt.legend(['benign','malign'], loc='upper right')\n",
        "    plt.xlabel(xnames[0], fontsize=16)\n",
        "    plt.ylabel(xnames[1], fontsize=16)\n",
        "    return plt\n",
        "\n",
        "plot_count(X,y)"
      ]
    },
    {
      "cell_type": "markdown",
      "metadata": {
        "id": "aROvueqkJLdM"
      },
      "source": [
        "#  Exercise\n",
        "\n",
        "1) Based on the above plot, what would you think a good \"classifer\" using the two features could be? That is, write a rule that can classify the benign region from the malignant region.\n",
        "\n",
        "2) Define a metric function that computes TP, FP, TN, FN, the accuracy, the sensitivity and the precision.\n",
        "\n",
        "3) Try to improve your classifier given those metrics\n",
        "\n",
        "4) Use sklearn logistic regression and check each metric."
      ]
    },
    {
      "cell_type": "code",
      "execution_count": null,
      "metadata": {
        "colab": {
          "base_uri": "https://localhost:8080/"
        },
        "id": "OhtSZi3LJNPk",
        "outputId": "fb68e9b6-4765-40aa-a93e-83af9efb1908"
      },
      "outputs": [
        {
          "output_type": "stream",
          "name": "stdout",
          "text": [
            "(683,)\n"
          ]
        }
      ],
      "source": [
        "# TODO: Implement the classifier of 1) (Note that there can be multiple classifiers)\n",
        "# HINT: find the equation of the line that almost completely separates the two classes (green points from the red points in the picture above)\n",
        "#       assign values greater than this line to the \"malign\" class otherwise to the \"benign\" class.  \n",
        "def classifier(X, bound=4):\n",
        "    size = X[:, 0]\n",
        "    marg = X[:, 1]\n",
        "    # TODO\n",
        "    y_hat = (size + marg) >= bound\n",
        "    return y_hat.astype(int)\n",
        "\n",
        "y_pred = classifier(X)\n",
        "print(y_pred.shape)"
      ]
    },
    {
      "cell_type": "code",
      "execution_count": null,
      "metadata": {
        "colab": {
          "base_uri": "https://localhost:8080/"
        },
        "id": "qptZb6GaOBjZ",
        "outputId": "ea5968a3-2104-4740-bec0-abbd621a1da3"
      },
      "outputs": [
        {
          "output_type": "stream",
          "name": "stdout",
          "text": [
            "TP: 231, TN: 365, FP: 79, FN: 8\n",
            "Accuracy is 0.8726207906295754, Sensitivity is 0.9665271966527197, Precision is 0.7451612903225806\n",
            "\n",
            "Improved Classifier: \n",
            "TP: 214, TN: 426, FP: 18, FN: 25\n",
            "Accuracy is 0.9370424597364568, Sensitivity is 0.895397489539749, Precision is 0.9224137931034483\n"
          ]
        }
      ],
      "source": [
        "def metrics(y, y_hat):\n",
        "    # TODO: 2)\n",
        "    # calculate TP, TN, FP and FN rates\n",
        "    \n",
        "    TP = np.sum((y + y_hat) == 2) # y = 1, yhat = 1\n",
        "    TN = np.sum((y + y_hat) == 0) # y = 0, yhat = 0\n",
        "    FP = np.sum((y - y_hat) == -1) # y = 0, yhat = 1\n",
        "    FN = np.sum((y - y_hat) == 1) # y = 1, yhat = 0\n",
        "    \n",
        "    return TP, TN, FP, FN\n",
        "\n",
        "TP, TN, FP, FN = metrics(y, y_pred)\n",
        "# calculate the following metrics using TP, TN, FP, and FN\n",
        "accuracy = (TP+TN)/(TP+TN+FP+FN)\n",
        "sensitivity = TP/(TP+FN)\n",
        "precision = TP/(TP+FP)\n",
        "print(\"TP: {}, TN: {}, FP: {}, FN: {}\".format(TP, TN, FP, FN))\n",
        "print(\"Accuracy is {}, Sensitivity is {}, Precision is {}\".format(accuracy, sensitivity, precision))\n",
        "\n",
        "# TODO: 3) try to improve your classifier and measure the performance using the metrics above\n",
        "\n",
        "y_pred_2 = classifier(X, bound=6)\n",
        "TP, TN, FP, FN = metrics(y, y_pred_2)\n",
        "accuracy = (TP+TN)/(TP+TN+FP+FN)\n",
        "sensitivity = TP/(TP+FN)\n",
        "precision = TP/(TP+FP)\n",
        "print()\n",
        "print(\"Improved Classifier: \")\n",
        "print(\"TP: {}, TN: {}, FP: {}, FN: {}\".format(TP, TN, FP, FN))\n",
        "print(\"Accuracy is {}, Sensitivity is {}, Precision is {}\".format(accuracy, sensitivity, precision))"
      ]
    },
    {
      "cell_type": "markdown",
      "metadata": {
        "id": "J9ZlZz61OBjZ"
      },
      "source": [
        "LogisticRegression: https://scikit-learn.org/stable/modules/generated/sklearn.linear_model.LogisticRegression.html"
      ]
    },
    {
      "cell_type": "code",
      "execution_count": null,
      "metadata": {
        "id": "llwr9qc5OBja"
      },
      "outputs": [],
      "source": [
        "from sklearn.linear_model import LogisticRegression\n",
        "# TODO: 4) use LogisticRegression of sklearn\n",
        "clf = LogisticRegression(random_state=0)\n",
        "\n",
        "# fit the logistic regression model\n",
        "clf.fit(X, y)\n",
        "\n",
        "# predict using the model\n",
        "y_pred_clf = clf.predict(X)"
      ]
    },
    {
      "cell_type": "code",
      "execution_count": null,
      "metadata": {
        "colab": {
          "base_uri": "https://localhost:8080/"
        },
        "id": "ymApPWPlOBja",
        "outputId": "e681ca9f-66b0-4ffe-e10d-2e9de52aa7a2"
      },
      "outputs": [
        {
          "output_type": "stream",
          "name": "stdout",
          "text": [
            "WITH SKLEARN: \n",
            "TP: 214, TN: 429, FP: 15, FN: 25\n",
            "Accuracy is 0.9414348462664714, Sensitivity is 0.895397489539749, Precision is 0.9344978165938864\n"
          ]
        }
      ],
      "source": [
        "# Evaluate sklearn's model according to the metrics above\n",
        "\n",
        "# TODO\n",
        "TP, TN, FP, FN = metrics(y, y_pred_clf)\n",
        "# calculate the following metrics using TP, TN, FP, and FN\n",
        "accuracy = (TP+TN)/(TP+TN+FP+FN)\n",
        "sensitivity = TP/(TP+FN)\n",
        "precision = TP/(TP+FP)\n",
        "\n",
        "print(\"WITH SKLEARN: \")\n",
        "print(\"TP: {}, TN: {}, FP: {}, FN: {}\".format(TP, TN, FP, FN))\n",
        "print(\"Accuracy is {}, Sensitivity is {}, Precision is {}\".format(accuracy, sensitivity, precision))"
      ]
    },
    {
      "cell_type": "code",
      "execution_count": null,
      "metadata": {
        "id": "ItYwI_BDOBjb"
      },
      "outputs": [],
      "source": [
        ""
      ]
    }
  ],
  "metadata": {
    "colab": {
      "collapsed_sections": [
        "MfjrSYu-WKDo"
      ],
      "name": "“Breast Cancer Demo.ipynb”的副本",
      "provenance": []
    },
    "kernelspec": {
      "display_name": "Python 3",
      "language": "python",
      "name": "python3"
    },
    "language_info": {
      "codemirror_mode": {
        "name": "ipython",
        "version": 3
      },
      "file_extension": ".py",
      "mimetype": "text/x-python",
      "name": "python",
      "nbconvert_exporter": "python",
      "pygments_lexer": "ipython3",
      "version": "3.7.0"
    }
  },
  "nbformat": 4,
  "nbformat_minor": 0
}